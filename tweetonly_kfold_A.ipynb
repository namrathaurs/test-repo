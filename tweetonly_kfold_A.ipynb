{
  "nbformat": 4,
  "nbformat_minor": 0,
  "metadata": {
    "colab": {
      "name": "tweetonly_kfold_A.ipynb",
      "provenance": [],
      "private_outputs": true,
      "collapsed_sections": []
    },
    "kernelspec": {
      "name": "python3",
      "display_name": "Python 3"
    },
    "accelerator": "GPU"
  },
  "cells": [
    {
      "cell_type": "code",
      "metadata": {
        "id": "sZFt6b_ulkV-",
        "colab_type": "code",
        "colab": {}
      },
      "source": [
        "# Reference: https://zerowithdot.com/colab-github-workflow/\n",
        "from google.colab import drive\n",
        "from os.path import join\n",
        "\n",
        "ROOT = '/content/drive'     # default for the drive\n",
        "PROJ = 'My Drive/urs_research/twitter_pessimism_detection'    # path to your project on Drive\n",
        "\n",
        "GIT_USERNAME = \"namrathaurs\" # replace with yours\n",
        "GIT_TOKEN = \"3b06d31d774218c67bb280eed2336364d3132642\"           # definitely replace with yours\n",
        "GIT_REPOSITORY = \"test-repo\"      # ...nah\n",
        "\n",
        "drive.mount(ROOT)           # mount the drive at /content/drive\n",
        "\n",
        "PROJECT_PATH = join(ROOT, PROJ)\n",
        "!mkdir \"{PROJECT_PATH}\"     # in case we haven't created it already   \n",
        "\n",
        "GIT_PATH = \"https://{}@github.com/{}/{}.git\".format(GIT_TOKEN, GIT_USERNAME, GIT_REPOSITORY)\n",
        "!git clone \"{GIT_PATH}\" \"{PROJECT_PATH}\"\n",
        "# !rsync -aP --exclude=data/ \"{PROJECT_PATH}\"/*  ./"
      ],
      "execution_count": null,
      "outputs": []
    },
    {
      "cell_type": "code",
      "metadata": {
        "id": "cIrtILbfk4iG",
        "colab_type": "code",
        "colab": {}
      },
      "source": [
        "# !git pull origin master\n",
        "# !git remote -v\n",
        "!rm -rf \"{PROJECT_PATH}\""
      ],
      "execution_count": null,
      "outputs": []
    },
    {
      "cell_type": "code",
      "metadata": {
        "id": "bkJAuJ9qZPg8",
        "colab_type": "code",
        "colab": {}
      },
      "source": [
        "from google.colab import drive\n",
        "drive.mount('/content/gdrive')"
      ],
      "execution_count": null,
      "outputs": []
    },
    {
      "cell_type": "code",
      "metadata": {
        "id": "Ju1fjc3heKs_",
        "colab_type": "code",
        "colab": {}
      },
      "source": [
        "%cd gdrive/My Drive/Namratha\\'s Research/twitter_pessimism_detection/"
      ],
      "execution_count": null,
      "outputs": []
    },
    {
      "cell_type": "code",
      "metadata": {
        "id": "rqeqHC-b9Zwj",
        "colab_type": "code",
        "colab": {}
      },
      "source": [
        "# Import PyDrive and associated libraries.\n",
        "# This only needs to be done once per notebook.\n",
        "from pydrive.auth import GoogleAuth\n",
        "from pydrive.drive import GoogleDrive\n",
        "from google.colab import auth\n",
        "from oauth2client.client import GoogleCredentials\n",
        "\n",
        "# Authenticate and create the PyDrive client.\n",
        "# This only needs to be done once per notebook.\n",
        "auth.authenticate_user()\n",
        "gauth = GoogleAuth()\n",
        "gauth.credentials = GoogleCredentials.get_application_default()\n",
        "drive = GoogleDrive(gauth)\n",
        "\n",
        "# Download a file based on its file ID.\n",
        "#\n",
        "# A file ID looks like: laggVyWshwcyP6kEI-y_W3P8D26sz\n",
        "file_id = 'REPLACE_WITH_YOUR_FILE_ID'\n",
        "downloaded = drive.CreateFile({'id': file_id})\n",
        "print('Downloaded content \"{}\"'.format(downloaded.GetContentString()))"
      ],
      "execution_count": null,
      "outputs": []
    },
    {
      "cell_type": "code",
      "metadata": {
        "id": "D65KXtGZZ-lc",
        "colab_type": "code",
        "colab": {}
      },
      "source": [
        "!pip install transformers\n",
        "!pip install simpletransformers"
      ],
      "execution_count": null,
      "outputs": []
    },
    {
      "cell_type": "code",
      "metadata": {
        "id": "jul4VkB7iwBo",
        "colab_type": "code",
        "colab": {}
      },
      "source": [
        "# install apex (Ref: https://github.com/NVIDIA/apex/issues/116)\n",
        "# !pip uninstall apex           # remove apex if installed previously\n",
        "\n",
        "# %cd ../../\n",
        "# !git clone https://www.github.com/nvidia/apex\n",
        "%cd apex\n",
        "!python setup.py install"
      ],
      "execution_count": null,
      "outputs": []
    },
    {
      "cell_type": "code",
      "metadata": {
        "id": "dEokdccgeUlF",
        "colab_type": "code",
        "colab": {}
      },
      "source": [
        "%cd ../pessimism/code\n",
        "%pwd"
      ],
      "execution_count": null,
      "outputs": []
    },
    {
      "cell_type": "code",
      "metadata": {
        "id": "HrBvjNcxA35o",
        "colab_type": "code",
        "colab": {}
      },
      "source": [
        "!python tweetonly_seqclsfn_A.py"
      ],
      "execution_count": null,
      "outputs": []
    }
  ]
}